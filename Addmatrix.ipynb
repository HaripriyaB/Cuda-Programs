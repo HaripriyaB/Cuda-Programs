{
  "nbformat": 4,
  "nbformat_minor": 0,
  "metadata": {
    "colab": {
      "name": "AssignmentCuda2.ipynb",
      "provenance": [],
      "collapsed_sections": [],
      "authorship_tag": "ABX9TyOKMkAiayZH9RFZjHCO25tQ"
    },
    "kernelspec": {
      "name": "python3",
      "display_name": "Python 3"
    },
    "accelerator": "GPU"
  },
  "cells": [
    {
      "cell_type": "code",
      "metadata": {
        "id": "rnCOAKm4jZlq",
        "colab_type": "code",
        "outputId": "43ea6809-afa2-4912-9e8a-0fe780d7a396",
        "colab": {
          "base_uri": "https://localhost:8080/",
          "height": 35
        }
      },
      "source": [
        "! pwd"
      ],
      "execution_count": 0,
      "outputs": [
        {
          "output_type": "stream",
          "text": [
            "/content\n"
          ],
          "name": "stdout"
        }
      ]
    },
    {
      "cell_type": "code",
      "metadata": {
        "id": "a-YoC8nCkUMv",
        "colab_type": "code",
        "outputId": "e2e00330-08df-4c8e-ce32-08261d16adbf",
        "colab": {
          "base_uri": "https://localhost:8080/",
          "height": 90
        }
      },
      "source": [
        "! nvcc --version"
      ],
      "execution_count": 0,
      "outputs": [
        {
          "output_type": "stream",
          "text": [
            "nvcc: NVIDIA (R) Cuda compiler driver\n",
            "Copyright (c) 2005-2019 NVIDIA Corporation\n",
            "Built on Sun_Jul_28_19:07:16_PDT_2019\n",
            "Cuda compilation tools, release 10.1, V10.1.243\n"
          ],
          "name": "stdout"
        }
      ]
    },
    {
      "cell_type": "code",
      "metadata": {
        "id": "ntzEpsxPkXoD",
        "colab_type": "code",
        "outputId": "25ff4950-2c67-479a-bded-c606cef1027f",
        "colab": {
          "base_uri": "https://localhost:8080/",
          "height": 221
        }
      },
      "source": [
        "! pip install git+git://github.com/andreinechaev/nvcc4jupyter.git"
      ],
      "execution_count": 0,
      "outputs": [
        {
          "output_type": "stream",
          "text": [
            "Collecting git+git://github.com/andreinechaev/nvcc4jupyter.git\n",
            "  Cloning git://github.com/andreinechaev/nvcc4jupyter.git to /tmp/pip-req-build-jhh5jvny\n",
            "  Running command git clone -q git://github.com/andreinechaev/nvcc4jupyter.git /tmp/pip-req-build-jhh5jvny\n",
            "Building wheels for collected packages: NVCCPlugin\n",
            "  Building wheel for NVCCPlugin (setup.py) ... \u001b[?25l\u001b[?25hdone\n",
            "  Created wheel for NVCCPlugin: filename=NVCCPlugin-0.0.2-cp36-none-any.whl size=4307 sha256=4dbb2a6fe81bca37b353f3167ba8a3d8cf903fee91628cdc1f4c4c53fe1839b6\n",
            "  Stored in directory: /tmp/pip-ephem-wheel-cache-x2zb7mus/wheels/10/c2/05/ca241da37bff77d60d31a9174f988109c61ba989e4d4650516\n",
            "Successfully built NVCCPlugin\n",
            "Installing collected packages: NVCCPlugin\n",
            "Successfully installed NVCCPlugin-0.0.2\n"
          ],
          "name": "stdout"
        }
      ]
    },
    {
      "cell_type": "code",
      "metadata": {
        "id": "se9RobwTkaq3",
        "colab_type": "code",
        "outputId": "3d57df73-cc9d-4e31-e271-713e0035c5aa",
        "colab": {
          "base_uri": "https://localhost:8080/",
          "height": 54
        }
      },
      "source": [
        "%load_ext nvcc_plugin"
      ],
      "execution_count": 0,
      "outputs": [
        {
          "output_type": "stream",
          "text": [
            "The nvcc_plugin extension is already loaded. To reload it, use:\n",
            "  %reload_ext nvcc_plugin\n"
          ],
          "name": "stdout"
        }
      ]
    },
    {
      "cell_type": "code",
      "metadata": {
        "id": "oGVyXN-5O1J_",
        "colab_type": "code",
        "colab": {}
      },
      "source": [
        "###########################################################################################################3"
      ],
      "execution_count": 0,
      "outputs": []
    },
    {
      "cell_type": "markdown",
      "metadata": {
        "id": "8giB0FkF0DkS",
        "colab_type": "text"
      },
      "source": [
        "**1)One block with number of threads equal to number of pixels. eg. gridDim=(1,1,1), blockDim=(m,n,1)**"
      ]
    },
    {
      "cell_type": "code",
      "metadata": {
        "id": "cjnP7eKYpeWA",
        "colab_type": "code",
        "colab": {}
      },
      "source": [
        "%%cuda --name Matrixadd1.cu\n",
        "#include <stdio.h>\n",
        "#include <stdlib.h>\n",
        "#include <cuda.h>\n",
        "#include <cuda_runtime.h>\n",
        "\n",
        "__global__ void matrixAdd(float *A,float *B, float *C, int n, int m)\n",
        "{\n",
        "\tint i = blockDim.x * blockIdx.x + threadIdx.x;\n",
        "    int j = blockDim.y * blockIdx.y + threadIdx.y;\n",
        "\tint ind = (m * i) + j;\n",
        "\tif(i < n && j < m)\n",
        "\t\tC[ind] = A[ind] + B[ind];\n",
        "}\n",
        "\n",
        "int main(void)\n",
        "{\n",
        "\tcudaError_t err=cudaSuccess;\n",
        "\tint n;\n",
        "\tprintf(\"Enter number of rows for both matrices:\");\n",
        "\tscanf(\"%d\",&n);\n",
        "\tint m;\n",
        "\tprintf(\"Enter number of columns for both matrices:\");\n",
        "\tscanf(\"%d\",&m);\n",
        "\t\t\n",
        "\tsize_t size= n*m*sizeof(int);\n",
        "\tprintf(\"Matrix addition of %d x %d elements.\\n\",n,m);\n",
        "\t//host size allocating memory\n",
        "\tint h_A[n][m];\n",
        "\tint h_B[n][m];\n",
        "\tint h_C[n][m];\n",
        "\tprintf(\"Enter values of matrix A:\\n\");\n",
        "\tfor(int i=0;i<n;++i)\n",
        "\t{\n",
        "\t\tfor(int j=0;j<m;++j)\n",
        "\t\t{\n",
        "\t\t\tscanf(\"%d\",&h_A[i][j]);\n",
        "\t\t}\n",
        "\t}\n",
        "\tprintf(\"Enter values of matrix B:\\n\");\n",
        "\tfor(int i=0;i<n;++i)\n",
        "\t{\n",
        "\t\tfor(int j=0;j<m;++j)\n",
        "\t\t{\n",
        "\t\t\tscanf(\"%d\",&h_B[i][j]);\n",
        "\t\t}\n",
        "\t}\n",
        "\t\n",
        "\tfloat *d_A,*d_B,*d_C;\n",
        "\t\n",
        "\t//device side allocation of memory\n",
        "\terr=cudaMalloc((void **)&d_A,size);\n",
        "\terr=cudaMalloc((void **)&d_B,size);\n",
        "\terr=cudaMalloc((void **)&d_C,size);\n",
        "\t\n",
        "\t//Copying the host values to device\n",
        "\terr=cudaMemcpy(d_A,h_A,size,cudaMemcpyHostToDevice);\n",
        "\terr=cudaMemcpy(d_B,h_B,size,cudaMemcpyHostToDevice);\n",
        "\n",
        "  //1) one block with number of threads equal to number of pixels. eg. gridDim=(1,1,1), blockDim=(m,n,1)\n",
        "\tdim3 gridDim(1,1,1);\n",
        "\tdim3 blockDim(m,n,1);\n",
        "\t\t\n",
        "\t//matrix addition is executed in device side \n",
        "\tmatrixAdd<<<gridDim,blockDim>>>(d_A,d_B,d_C,n,m);\n",
        "\t\n",
        "\terr=cudaGetLastError();\n",
        "\t\n",
        "\t//copying back the values of vector C from device to host\n",
        "\terr=cudaMemcpy(h_C,d_C,size,cudaMemcpyDeviceToHost);\n",
        "\t\n",
        "\tprintf(\"Matrix C values are: \\n\");\n",
        "\tfor(int i=0;i<n;++i)\n",
        "\t{\n",
        "\t\tfor(int j=0;j<m;++j)\n",
        "\t\t{\n",
        "\t\t\tprintf(\"%d \",h_C[i][j]);\n",
        "\t\t}\n",
        "\t\tprintf(\"\\n\");\n",
        "\t}\n",
        "\t\n",
        "\t//Free the device side variables\n",
        "\tcudaFree(d_A);\n",
        "\tcudaFree(d_B);\n",
        "\tcudaFree(d_C);\n",
        "\t\t\n",
        "\tfor(int i=0;i<n;++i)\n",
        "\t{\n",
        "\t\tfor(int j=0;j<m;j++)\n",
        "\t\t{\n",
        "\t\t\t\tif(fabs(h_A[i][j]+h_B[i][j]-h_C[i][j]) > 1e-5)\n",
        "\t\t\t\t{\n",
        "\t\t\t\t\t//If more than 1e-5 difference is there between A+B and value in C\n",
        "\t\t\t\t\tfprintf(stderr,\"Result verification falied at element %d,%d\\n\",i,j);\n",
        "\t\t\t\t\texit(EXIT_FAILURE);\n",
        "\t\t\t\t}\n",
        "\t\t}\n",
        "\t}\n",
        "\t\n",
        "\tprintf(\"Test PASSED\\n\");\n",
        "\treturn 0;\n",
        "}"
      ],
      "execution_count": 0,
      "outputs": []
    },
    {
      "cell_type": "code",
      "metadata": {
        "id": "FklHtuG7keRG",
        "colab_type": "code",
        "outputId": "14b3c3bb-a46b-4f23-cf22-d60bebe5ffa8",
        "colab": {
          "base_uri": "https://localhost:8080/",
          "height": 54
        }
      },
      "source": [
        "!nvcc /content/src/Matrixadd1.cu -o /content/src/Matrixadd1"
      ],
      "execution_count": 0,
      "outputs": [
        {
          "output_type": "stream",
          "text": [
            "/content/src/Matrixadd1.cu(17): warning: variable \"err\" was set but never used\n",
            "\n"
          ],
          "name": "stdout"
        }
      ]
    },
    {
      "cell_type": "code",
      "metadata": {
        "id": "umj3CPHvu6qY",
        "colab_type": "code",
        "outputId": "df7b676f-d005-469f-b8ea-7e6b2f414065",
        "colab": {
          "base_uri": "https://localhost:8080/",
          "height": 531
        }
      },
      "source": [
        "!/content/src/Matrixadd1"
      ],
      "execution_count": 0,
      "outputs": [
        {
          "output_type": "stream",
          "text": [
            "Enter number of rows for both matrices:3\n",
            "Enter number of columns for both matrices:3\n",
            "Matrix addition of 3 x 3 elements.\n",
            "Enter values of matrix A:\n",
            "1\n",
            "1\n",
            "1\n",
            "2\n",
            "2\n",
            "2\n",
            "3\n",
            "3\n",
            "3\n",
            "Enter values of matrix B:\n",
            "1\n",
            "1\n",
            "1\n",
            "1\n",
            "1\n",
            "1\n",
            "1\n",
            "1\n",
            "1\n",
            "Matrix C values are: \n",
            "2 2 2 \n",
            "3 3 3 \n",
            "4 4 4 \n",
            "Test PASSED\n"
          ],
          "name": "stdout"
        }
      ]
    },
    {
      "cell_type": "code",
      "metadata": {
        "id": "4dK3j-o71t1y",
        "colab_type": "code",
        "colab": {}
      },
      "source": [
        "###########################################################################################################"
      ],
      "execution_count": 0,
      "outputs": []
    },
    {
      "cell_type": "markdown",
      "metadata": {
        "id": "2wHnI47t3jpz",
        "colab_type": "text"
      },
      "source": [
        "**2)GridDim= (adjusted according to values of m and n)(Ceil(n/4),Ceil(m/4),1), blockDim=(4,4,1)**"
      ]
    },
    {
      "cell_type": "code",
      "metadata": {
        "colab_type": "code",
        "id": "Mx8MrV0fHsW_",
        "colab": {}
      },
      "source": [
        "%%cuda --name Matrixadd2.cu\n",
        "#include <stdio.h>\n",
        "#include <stdlib.h>\n",
        "#include <cuda.h>\n",
        "#include <cuda_runtime.h>\n",
        "\n",
        "__global__ void matrixAdd(float *A,float *B, float *C, int n, int m)\n",
        "{\n",
        "\tint i = blockDim.x * blockIdx.x + threadIdx.x;\n",
        "    int j = blockDim.y * blockIdx.y + threadIdx.y;\n",
        "\tint ind = (m * i) + j;\n",
        "\tif(i < n && j < m)\n",
        "\t\tC[ind] = A[ind] + B[ind];\n",
        "}\n",
        "\n",
        "int main(void)\n",
        "{\n",
        "\tcudaError_t err=cudaSuccess;\n",
        "\tint n=4,m=4;\n",
        "\t\t\n",
        "\tsize_t size= n*m*sizeof(int);\n",
        "\tprintf(\"Matrix addition of %d x %d elements.\\n\",n,m);\n",
        "\t//host size allocating memory\n",
        "\tint h_A[n][m];\n",
        "\tint h_B[n][m];\n",
        "\tint h_C[n][m];\n",
        "\tprintf(\"Enter values of matrix A:\\n\");\n",
        "\tfor(int i=0;i<n;++i)\n",
        "\t{\n",
        "\t\tfor(int j=0;j<m;++j)\n",
        "\t\t{\n",
        "\t\t\tscanf(\"%d\",&h_A[i][j]);\n",
        "\t\t}\n",
        "\t}\n",
        "\tprintf(\"Enter values of matrix B:\\n\");\n",
        "\tfor(int i=0;i<n;++i)\n",
        "\t{\n",
        "\t\tfor(int j=0;j<m;++j)\n",
        "\t\t{\n",
        "\t\t\tscanf(\"%d\",&h_B[i][j]);\n",
        "\t\t}\n",
        "\t}\n",
        "\t\n",
        "\tfloat *d_A,*d_B,*d_C;\n",
        "\t\n",
        "\t//device side allocation of memory\n",
        "\terr=cudaMalloc((void **)&d_A,size);\n",
        "\terr=cudaMalloc((void **)&d_B,size);\n",
        "\terr=cudaMalloc((void **)&d_C,size);\n",
        "\t\n",
        "\t//Copying the host values to device\n",
        "\terr=cudaMemcpy(d_A,h_A,size,cudaMemcpyHostToDevice);\n",
        "\terr=cudaMemcpy(d_B,h_B,size,cudaMemcpyHostToDevice);\n",
        "\n",
        "  //2) GridDim= (adjusted according to values of m and n)(Ceil(n/4),Ceil(m/4),1), blockDim=(4,4,1)\n",
        "\tdim3 gridDim(ceil(n/4),ceil(m/4),1);\n",
        "\tdim3 blockDim(4,4,1);\n",
        "\t\t\n",
        "\t//matrix addition is executed in device side \n",
        "\tmatrixAdd<<<gridDim,blockDim>>>(d_A,d_B,d_C,n,m);\n",
        "\t\n",
        "\terr=cudaGetLastError();\n",
        "\t\n",
        "\t//copying back the values of vector C from device to host\n",
        "\terr=cudaMemcpy(h_C,d_C,size,cudaMemcpyDeviceToHost);\n",
        "\t\n",
        "\tprintf(\"Matrix C values are: \\n\");\n",
        "\tfor(int i=0;i<n;++i)\n",
        "\t{\n",
        "\t\tfor(int j=0;j<m;++j)\n",
        "\t\t{\n",
        "\t\t\tprintf(\"%d \",h_C[i][j]);\n",
        "\t\t}\n",
        "\t\tprintf(\"\\n\");\n",
        "\t}\n",
        "\t\n",
        "\t//Free the device side variables\n",
        "\tcudaFree(d_A);\n",
        "\tcudaFree(d_B);\n",
        "\tcudaFree(d_C);\n",
        "\t\t\n",
        "\tfor(int i=0;i<n;++i)\n",
        "\t{\n",
        "\t\tfor(int j=0;j<m;j++)\n",
        "\t\t{\n",
        "\t\t\t\tif(fabs(h_A[i][j]+h_B[i][j]-h_C[i][j]) > 1e-5)\n",
        "\t\t\t\t{\n",
        "\t\t\t\t\t//If more than 1e-5 difference is there between A+B and value in C\n",
        "\t\t\t\t\tfprintf(stderr,\"Result verification falied at element %d,%d\\n\",i,j);\n",
        "\t\t\t\t\texit(EXIT_FAILURE);\n",
        "\t\t\t\t}\n",
        "\t\t}\n",
        "\t}\n",
        "\t\n",
        "\tprintf(\"Test PASSED\\n\");\n",
        "\treturn 0;\n",
        "}"
      ],
      "execution_count": 0,
      "outputs": []
    },
    {
      "cell_type": "code",
      "metadata": {
        "id": "f_tzkLX7O9_8",
        "colab_type": "code",
        "outputId": "926e195c-a294-459c-ec91-90e54080b73e",
        "colab": {
          "base_uri": "https://localhost:8080/",
          "height": 54
        }
      },
      "source": [
        "!nvcc /content/src/Matrixadd2.cu -o /content/src/Matrixadd2"
      ],
      "execution_count": 0,
      "outputs": [
        {
          "output_type": "stream",
          "text": [
            "/content/src/Matrixadd2.cu(17): warning: variable \"err\" was set but never used\n",
            "\n"
          ],
          "name": "stdout"
        }
      ]
    },
    {
      "cell_type": "code",
      "metadata": {
        "id": "AMfmno5qPFnF",
        "colab_type": "code",
        "outputId": "0a08a632-6d96-42f9-ad74-5f3270ad0ca6",
        "colab": {
          "base_uri": "https://localhost:8080/",
          "height": 329
        }
      },
      "source": [
        "!/content/src/Matrixadd2"
      ],
      "execution_count": 0,
      "outputs": [
        {
          "output_type": "stream",
          "text": [
            "Matrix addition of 4 x 4 elements.\n",
            "Matrix A:\n",
            "2 9 10 4 \n",
            "6 6 5 3 \n",
            "9 9 2 6 \n",
            "4 8 1 2 \n",
            "Matrix B:\n",
            "1 2 7 8 \n",
            "1 3 7 10 \n",
            "2 6 3 7 \n",
            "9 9 4 4 \n",
            "Matrix C values are: \n",
            "3 11 17 12 \n",
            "7 9 12 13 \n",
            "11 15 5 13 \n",
            "13 17 5 6 \n",
            "Test PASSED\n"
          ],
          "name": "stdout"
        }
      ]
    },
    {
      "cell_type": "code",
      "metadata": {
        "id": "K-Z6QaCrPMf6",
        "colab_type": "code",
        "colab": {}
      },
      "source": [
        ""
      ],
      "execution_count": 0,
      "outputs": []
    }
  ]
}