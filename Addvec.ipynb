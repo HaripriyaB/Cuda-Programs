{
  "nbformat": 4,
  "nbformat_minor": 0,
  "metadata": {
    "colab": {
      "name": "AssignmentCuda1.ipynb",
      "provenance": [],
      "collapsed_sections": [],
      "authorship_tag": "ABX9TyOZ44nB/OIGr9dsKvpuRiIQ"
    },
    "kernelspec": {
      "name": "python3",
      "display_name": "Python 3"
    },
    "accelerator": "GPU"
  },
  "cells": [
    {
      "cell_type": "code",
      "metadata": {
        "id": "WYdKbJ6xkD1W",
        "colab_type": "code",
        "outputId": "d678722e-444d-4846-81c3-1dee995094c3",
        "colab": {
          "base_uri": "https://localhost:8080/",
          "height": 35
        }
      },
      "source": [
        "!pwd"
      ],
      "execution_count": 0,
      "outputs": [
        {
          "output_type": "stream",
          "text": [
            "/content\n"
          ],
          "name": "stdout"
        }
      ]
    },
    {
      "cell_type": "code",
      "metadata": {
        "id": "hWKEpr2GkmWC",
        "colab_type": "code",
        "outputId": "df5b1160-7088-4884-e14f-fcd4a7606629",
        "colab": {
          "base_uri": "https://localhost:8080/",
          "height": 90
        }
      },
      "source": [
        "! nvcc --version"
      ],
      "execution_count": 0,
      "outputs": [
        {
          "output_type": "stream",
          "text": [
            "nvcc: NVIDIA (R) Cuda compiler driver\n",
            "Copyright (c) 2005-2019 NVIDIA Corporation\n",
            "Built on Sun_Jul_28_19:07:16_PDT_2019\n",
            "Cuda compilation tools, release 10.1, V10.1.243\n"
          ],
          "name": "stdout"
        }
      ]
    },
    {
      "cell_type": "code",
      "metadata": {
        "id": "DUyciIxIk1nW",
        "colab_type": "code",
        "outputId": "e31c64e9-e1e0-4fe4-e8e3-6961b1b0584a",
        "colab": {
          "base_uri": "https://localhost:8080/",
          "height": 221
        }
      },
      "source": [
        "! pip install git+git://github.com/andreinechaev/nvcc4jupyter.git"
      ],
      "execution_count": 0,
      "outputs": [
        {
          "output_type": "stream",
          "text": [
            "Collecting git+git://github.com/andreinechaev/nvcc4jupyter.git\n",
            "  Cloning git://github.com/andreinechaev/nvcc4jupyter.git to /tmp/pip-req-build-e64f17yg\n",
            "  Running command git clone -q git://github.com/andreinechaev/nvcc4jupyter.git /tmp/pip-req-build-e64f17yg\n",
            "Building wheels for collected packages: NVCCPlugin\n",
            "  Building wheel for NVCCPlugin (setup.py) ... \u001b[?25l\u001b[?25hdone\n",
            "  Created wheel for NVCCPlugin: filename=NVCCPlugin-0.0.2-cp36-none-any.whl size=4307 sha256=66cb8ab43ca65bd82d023524dccd0b3da4b87703f938fd9b699e70ba55ff7e40\n",
            "  Stored in directory: /tmp/pip-ephem-wheel-cache-jbk8u275/wheels/10/c2/05/ca241da37bff77d60d31a9174f988109c61ba989e4d4650516\n",
            "Successfully built NVCCPlugin\n",
            "Installing collected packages: NVCCPlugin\n",
            "Successfully installed NVCCPlugin-0.0.2\n"
          ],
          "name": "stdout"
        }
      ]
    },
    {
      "cell_type": "code",
      "metadata": {
        "id": "QO9DfsVlu4Qf",
        "colab_type": "code",
        "outputId": "7bde8d8f-b40c-4d6e-ee7e-fe240fb8404e",
        "colab": {
          "base_uri": "https://localhost:8080/",
          "height": 54
        }
      },
      "source": [
        "%load_ext nvcc_plugin"
      ],
      "execution_count": 0,
      "outputs": [
        {
          "output_type": "stream",
          "text": [
            "created output directory at /content/src\n",
            "Out bin /content/result.out\n"
          ],
          "name": "stdout"
        }
      ]
    },
    {
      "cell_type": "code",
      "metadata": {
        "id": "DpCo2kOS6U51",
        "colab_type": "code",
        "outputId": "b9fec639-3e94-45c3-b454-8db67770bcd5",
        "colab": {
          "base_uri": "https://localhost:8080/",
          "height": 35
        }
      },
      "source": [
        "%%cuda --name hello.cu\n",
        "#include \"stdio.h\"\n",
        "__global__ void add(int a,int b, int *c)\n",
        "{\n",
        "    *c=a+b;\n",
        "}\n",
        "int main()\n",
        "{\n",
        "    int a,b,c;\n",
        "    int *dev_c;\n",
        "    a=3;\n",
        "    b=4;\n",
        "    cudaMalloc((void**)&dev_c,sizeof(int));\n",
        "    add<<<1,1>>>(a,b,dev_c);\n",
        "    cudaMemcpy(&c,dev_c,sizeof(int), cudaMemcpyDeviceToHost);\n",
        "    printf(\"%d + %d = %d\",a,b,c);\n",
        "    cudaFree(dev_c);\n",
        "    return 0;\n",
        "}"
      ],
      "execution_count": 0,
      "outputs": [
        {
          "output_type": "stream",
          "text": [
            "UsageError: Cell magic `%%cuda` not found.\n"
          ],
          "name": "stderr"
        }
      ]
    },
    {
      "cell_type": "code",
      "metadata": {
        "id": "Al3wZ4LkKglf",
        "colab_type": "code",
        "colab": {}
      },
      "source": [
        "!nvcc /content/src/hello.cu -o /content/src/hello"
      ],
      "execution_count": 0,
      "outputs": []
    },
    {
      "cell_type": "code",
      "metadata": {
        "id": "RbQzGJZfX7m8",
        "colab_type": "code",
        "outputId": "91c26d14-f71a-4199-864a-ae0c230ca7f5",
        "colab": {
          "base_uri": "https://localhost:8080/",
          "height": 35
        }
      },
      "source": [
        "!/content/src/hello"
      ],
      "execution_count": 0,
      "outputs": [
        {
          "output_type": "stream",
          "text": [
            "3 + 4 = 7"
          ],
          "name": "stdout"
        }
      ]
    },
    {
      "cell_type": "code",
      "metadata": {
        "id": "_I8Sy7Bw6Bfl",
        "colab_type": "code",
        "colab": {}
      },
      "source": [
        "%%cuda --name VectorAdd.cu\n",
        "#include <stdio.h>\n",
        "#include <stdlib.h>\n",
        "#include <cuda.h>\n",
        "#include <cuda_runtime.h>\n",
        "__global__ void vectorAdd(const float *A,const float *B, float *C, int n)\n",
        "{\n",
        "\tint i=blockDim.x * blockIdx.x + threadIdx.x;\n",
        "\tif(i<n)\n",
        "\t{\n",
        "\t\tC[i]=A[i]+B[i];\n",
        "\t}\n",
        "}\n",
        "\n",
        "int main(void)\n",
        "{\n",
        "\tcudaError_t err=cudaSuccess;\n",
        "\tint n=0;\n",
        "\tscanf(\"%d\",&n);\n",
        "\t\n",
        "\tsize_t size= n * sizeof(float);\n",
        "\tprintf(\"Vector addition of %d elements:\\n\",n);\n",
        "\t//host size allocating memory\n",
        "\tfloat *h_A=(float *)malloc(size);\n",
        "\tfloat *h_B=(float *)malloc(size);\n",
        "\tfloat *h_C=(float *)malloc(size);\n",
        "\t\n",
        "\tfor(int i=0;i<n;++i)\n",
        "\t{\n",
        "\t\tscanf(\"%f\",&h_A[i]);\n",
        "\t}\n",
        "\tfor(int i=0;i<n;++i)\n",
        "\t{\n",
        "\t\tscanf(\"%f\",&h_B[i]);\n",
        "\t}\n",
        "\t\n",
        "\tfloat *d_A,*d_B,*d_C;\n",
        "\t\n",
        "\t//device side allocation of memory\n",
        "\terr=cudaMalloc((void **)&d_A,size);\n",
        "\terr=cudaMalloc((void **)&d_B,size);\n",
        "\terr=cudaMalloc((void **)&d_C,size);\n",
        "\t\n",
        "\t//Copying the host values to device\n",
        "\terr=cudaMemcpy(d_A,h_A,size,cudaMemcpyHostToDevice);\n",
        "\terr=cudaMemcpy(d_B,h_B,size,cudaMemcpyHostToDevice);\n",
        "\n",
        "\tint threadsperblock=256; //according to size of vector\n",
        "\tint blocksPerGrid= (n+threadsperblock-1)/threadsperblock;\n",
        "\t\n",
        "\tprintf(\"Cuda kernel launch with %d blocks with %d threads per block\\n\", blocksPerGrid,threadsperblock);\n",
        "\t\n",
        "\t//vector addition is executed in device side \n",
        "\tvectorAdd<<<blocksPerGrid,threadsperblock>>>(d_A,d_B,d_C,n);\n",
        "\t\n",
        "\terr=cudaGetLastError();\n",
        "\t\n",
        "\t//copying back the values of vector C from device to host\n",
        "\terr=cudaMemcpy(h_C,d_C,size,cudaMemcpyDeviceToHost);\n",
        "\t\n",
        "\tprintf(\"Vector C values are: \\n\");\n",
        "\tfor(int i=0;i<n;++i)\n",
        "\t{\n",
        "\t\tprintf(\"%f\\n\",h_C[i]);\n",
        "\t}\n",
        "\t\n",
        "\t//Free the device side variables\n",
        "\tcudaFree(d_A);\n",
        "\tcudaFree(d_B);\n",
        "\tcudaFree(d_C);\n",
        "\t\t\n",
        "\tfor(int i=0;i<n;++i)\n",
        "\t{\n",
        "\t\tif(fabs(h_A[i]+h_B[i]-h_C[i]) > 1e-5)\n",
        "\t\t{\n",
        "\t\t\t//If more than 1e-5 difference is there between A+B and value in C\n",
        "\t\t\tfprintf(stderr,\"Result verification falied at element %d\\n\",i);\n",
        "\t\t\texit(EXIT_FAILURE);\n",
        "\t\t}\n",
        "\t}\n",
        "\t\n",
        "\tprintf(\"Test PASSED\\n\");\n",
        "}"
      ],
      "execution_count": 0,
      "outputs": []
    },
    {
      "cell_type": "code",
      "metadata": {
        "id": "RSJxZOKgYBNo",
        "colab_type": "code",
        "outputId": "6f0cdcfd-c3bb-4d9c-dfa9-a5de6ec270f2",
        "colab": {
          "base_uri": "https://localhost:8080/",
          "height": 54
        }
      },
      "source": [
        "!nvcc /content/src/Vectoradd.cu -o /content/src/Vectoradd"
      ],
      "execution_count": 0,
      "outputs": [
        {
          "output_type": "stream",
          "text": [
            "/content/src/Vectoradd.cu(16): warning: variable \"err\" was set but never used\n",
            "\n"
          ],
          "name": "stdout"
        }
      ]
    },
    {
      "cell_type": "code",
      "metadata": {
        "id": "v75SCMjFrQld",
        "colab_type": "code",
        "outputId": "857adf77-99f4-4440-e2d2-5c134e3e0cc2",
        "colab": {
          "base_uri": "https://localhost:8080/",
          "height": 384
        }
      },
      "source": [
        "!/content/src/Vectoradd"
      ],
      "execution_count": 0,
      "outputs": [
        {
          "output_type": "stream",
          "text": [
            "5\n",
            "Vector addition of 5 elements:\n",
            "1\n",
            "2\n",
            "3\n",
            "4\n",
            "5\n",
            "1\n",
            "1\n",
            "1\n",
            "1\n",
            "1\n",
            "Cuda kernel launch with 1 blocks with 256 threads per block\n",
            "Vector C values are: \n",
            "2.000000\n",
            "3.000000\n",
            "4.000000\n",
            "5.000000\n",
            "6.000000\n",
            "Test PASSED\n"
          ],
          "name": "stdout"
        }
      ]
    },
    {
      "cell_type": "code",
      "metadata": {
        "id": "9tBEabrb4BNJ",
        "colab_type": "code",
        "colab": {}
      },
      "source": [
        ""
      ],
      "execution_count": 0,
      "outputs": []
    }
  ]
}